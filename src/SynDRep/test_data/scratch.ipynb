{
 "cells": [
  {
   "cell_type": "code",
   "execution_count": 1,
   "metadata": {},
   "outputs": [
    {
     "name": "stdout",
     "output_type": "stream",
     "text": [
      "(96, 132)\n"
     ]
    }
   ],
   "source": [
    "import json\n",
    "import pandas as pd\n",
    "\n",
    "pred = pd.read_csv('./pred_dataset_ML.csv')\n",
    "\n",
    "print(pred.shape)\n",
    "cid_name_dict = json.load(open('../../../../Causal-Pharmacome-Project/drug_repurposing/EM_then_ML/Data_EMML/JSON/cid_name_dict.json'))\n",
    "name_cid_dict = {v:k for k,v in cid_name_dict.items()}\n",
    "pred['Drug1_CID'] = pred['Drug1_name'].apply(name_cid_dict.get)\n",
    "pred['Drug2_CID'] = pred['Drug2_name'].apply(name_cid_dict.get)\n",
    "pred.to_csv('./pred_dataset_ML.csv')\n"
   ]
  }
 ],
 "metadata": {
  "kernelspec": {
   "display_name": ".venv",
   "language": "python",
   "name": "python3"
  },
  "language_info": {
   "codemirror_mode": {
    "name": "ipython",
    "version": 3
   },
   "file_extension": ".py",
   "mimetype": "text/x-python",
   "name": "python",
   "nbconvert_exporter": "python",
   "pygments_lexer": "ipython3",
   "version": "3.12.4"
  }
 },
 "nbformat": 4,
 "nbformat_minor": 2
}
